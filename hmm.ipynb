{
 "cells": [
  {
   "cell_type": "code",
   "execution_count": 2,
   "metadata": {
    "collapsed": true
   },
   "outputs": [],
   "source": [
    "import numpy as np\n",
    "A = [[.7, .3], [.4, .6]]\n",
    "B = [[.1, .4, .5], [.7, .2, .1]]\n",
    "pi = [.6, .4]\n",
    "s = [0, 0, 1, 1]    # these are the xs"
   ]
  },
  {
   "cell_type": "markdown",
   "metadata": {},
   "source": [
    "# Problem 3\n",
    "\n",
    "### Part A"
   ]
  },
  {
   "cell_type": "code",
   "execution_count": 2,
   "metadata": {},
   "outputs": [],
   "source": [
    "probs1 = {}\n",
    "\n",
    "for i in (0, 1, 2):    # these are the observations i,j,k,l\n",
    "    for j in (0, 1, 2):\n",
    "        for k in (0, 1, 2):\n",
    "            for l in (0, 1, 2):\n",
    "                for a in (0, 1):    # These are the states a,b,c,d\n",
    "                    for b in (0, 1):\n",
    "                        for c in (0, 1):\n",
    "                            for d in (0, 1):\n",
    "                                state = (a,b,c,d)\n",
    "                                ob = (i,j,k,l)\n",
    "                                prob = pi[a] * B[a][i] * A[a][b] * B[b][j] * A[b][c] * B[c][k] * A[c][d] * B[d][l]\n",
    "                                try: probs1[ob] += prob\n",
    "                                except:\n",
    "                                    probs1[ob] = prob"
   ]
  },
  {
   "cell_type": "code",
   "execution_count": 7,
   "metadata": {},
   "outputs": [
    {
     "data": {
      "text/plain": [
       "0.9999999999999994"
      ]
     },
     "execution_count": 7,
     "metadata": {},
     "output_type": "execute_result"
    }
   ],
   "source": [
    "sum(probs1.values())"
   ]
  },
  {
   "cell_type": "markdown",
   "metadata": {},
   "source": [
    "### Part B"
   ]
  },
  {
   "cell_type": "code",
   "execution_count": 4,
   "metadata": {
    "collapsed": true
   },
   "outputs": [],
   "source": [
    "probs2 = {}\n",
    "for i in (0, 1, 2):    # these are the observations i,j,k,l\n",
    "    for j in (0, 1, 2):\n",
    "        for k in (0, 1, 2):\n",
    "            for l in (0, 1, 2):\n",
    "                # For each possible observation:\n",
    "                ob = (i,j,k,l)\n",
    "                \n",
    "                a00 = pi[0] * B[0][i]\n",
    "                a01 = pi[1] * B[1][i]\n",
    "                \n",
    "                alpha = [[a00],[a01]]\n",
    "                \n",
    "                # Forward pass\n",
    "                for t in (1,2,3):\n",
    "                    #                 j is 0                      j is 1\n",
    "                    at_0 = (alpha[0][t-1] * A[0][0] + alpha[1][t-1] * A[1][0]) * B[0][ob[t]] # i is 0\n",
    "                    at_1 = (alpha[0][t-1] * A[0][1] + alpha[1][t-1] * A[1][1]) * B[1][ob[t]] # i is 1\n",
    "                    \n",
    "                    alpha[0].append(at_0)\n",
    "                    alpha[1].append(at_1)\n",
    "                    \n",
    "                prob = alpha[0][-1] + alpha[1][-1]\n",
    "                probs2[ob] = prob"
   ]
  },
  {
   "cell_type": "code",
   "execution_count": 5,
   "metadata": {},
   "outputs": [
    {
     "data": {
      "text/plain": [
       "0.9999999999999996"
      ]
     },
     "execution_count": 5,
     "metadata": {},
     "output_type": "execute_result"
    }
   ],
   "source": [
    "sum(probs2.values())"
   ]
  },
  {
   "cell_type": "code",
   "execution_count": 1,
   "metadata": {},
   "outputs": [],
   "source": [
    "# Check they are the same\n",
    "for i in (0, 1, 2):\n",
    "    for j in (0, 1, 2):\n",
    "        for k in (0, 1, 2):\n",
    "            for l in (0, 1, 2):\n",
    "                # For each observation:\n",
    "                ob = (i,j,k,l)\n",
    "                print probs1[ob] - probs2[ob] < 1e-10\n",
    "                "
   ]
  },
  {
   "cell_type": "markdown",
   "metadata": {},
   "source": [
    "# The HMM class"
   ]
  },
  {
   "cell_type": "code",
   "execution_count": 361,
   "metadata": {},
   "outputs": [],
   "source": [
    "class hmm(object):\n",
    "    def __init__(self):#(self, A, B, pi):\n",
    "#         self.A = A\n",
    "#         self.B = B\n",
    "#         self.pi = pi\n",
    "#         self.num_state = A.shape[0]\n",
    "        pass\n",
    "        \n",
    "    def forward_pass(self, obs):\n",
    "        alpha = np.zeros((len(obs), self.num_state))\n",
    "        c1 = 1. / sum(self.pi * self.B[obs[0],:])\n",
    "        alpha[0,:] = c1 * (self.pi * self.B[obs[0],:])\n",
    "        cs = [c1]\n",
    "        \n",
    "        for t in range(1, len(obs)):\n",
    "            ct = 1. / sum(self.A.dot(alpha[t-1,:]) * B[obs[t],:])\n",
    "            alpha[t,:] = ct * (self.A.dot(alpha[t-1,:]) * B[obs[t],:])\n",
    "            cs.append(ct)\n",
    "    \n",
    "        return alpha, np.array(cs)\n",
    "    \n",
    "    def backward_pass(self, obs):\n",
    "        a, c = self.forward_pass(obs)\n",
    "        T = len(obs) - 1\n",
    "        beta = np.zeros((len(obs), self.num_state))\n",
    "        beta[T,:] = np.array([c[T] for _ in range(self.num_state)])\n",
    "        for t in range(T-1, -1, -1):\n",
    "            beta[t,:] = c[t] * A.T.dot(B[obs[t+1],:] * beta[t+1])\n",
    "            \n",
    "        return beta\n",
    "    \n",
    "    def _delta(self, obs, alpha, beta):\n",
    "        T = len(obs)\n",
    "        delta = np.zeros((T - 1, self.num_state, self.num_state))\n",
    "        gamma = np.zeros((len(obs), self.num_state))\n",
    "        \n",
    "        for t in range(T-1):\n",
    "            denom = 0\n",
    "            for k in range(self.num_state):\n",
    "                for l in range(self.num_state):\n",
    "                    denom += alpha[t,k] * self.A[l,k] * self.B[obs[t+1],l] * beta[t+1,l]\n",
    "            \n",
    "            for i in range(self.num_state):\n",
    "                for j in range(self.num_state):\n",
    "                    delta[t,i,j] = (alpha[t,i]*self.A[j,i]*self.B[obs[t+1],j]*beta[t+1,j]) / denom\n",
    "                gamma[t,i] = sum(delta[t,i,:])\n",
    "        \n",
    "        gamma[T-1,:] = alpha[T-1,:] * beta[T-1,:] / sum(alpha[T-1,:] * beta[T-1,:])\n",
    "                    \n",
    "        return delta, gamma\n",
    "            \n",
    "        \n",
    "    def _estimate(self, obs, delta, gamma):\n",
    "        \"\"\"\n",
    "        Estimate better parameter values.\n",
    "        Parameters\n",
    "        ----------\n",
    "        obs : ndarray of shape (T,)\n",
    "        The observation sequence\n",
    "        delta : ndarray of shape (T-1,N,N)\n",
    "        The delta probability array\n",
    "        gamma : ndarray of shape (T,N)\n",
    "        The gamma probability array\n",
    "        \"\"\"\n",
    "        self.pi = gamma[0,:]\n",
    "    \n",
    "        # update A\n",
    "        for i in range(self.A.shape[0]):\n",
    "            for j in range(self.A.shape[1]):\n",
    "                num = 0\n",
    "                den = 0\n",
    "                for t in range(len(obs) - 1):\n",
    "                    num += delta[t,j,i]\n",
    "                    den += gamma[t,j]\n",
    "                A[i,j] = num / den\n",
    "    \n",
    "        #update B\n",
    "        for i in range(self.B.shape[0]):\n",
    "            for j in range(self.B.shape[1]):\n",
    "                self.B[i,j] = np.sum(gamma[:,j]*(np.array(obs)==i)) / np.sum(gamma[:,j])\n",
    "                \n",
    "        # print self.pi, self.A, self.B\n",
    "\n",
    "    def fit(self, obs, A, B, pi, max_iter=200, tol=1e-3):\n",
    "        \n",
    "        M = len(set(obs))\n",
    "        N = A.shape[0]\n",
    "        self.num_state = N\n",
    "        self.A = A\n",
    "        self.B = B\n",
    "        self.pi = pi\n",
    "        \n",
    "        p = np.inf\n",
    "        for i in range(max_iter):\n",
    "#             print i\n",
    "            alpha, cs = self.forward_pass(obs)\n",
    "            P = -(np.log(cs)).sum()\n",
    "            if (abs(P - p) < tol): break\n",
    "#             if P < -21550: break\n",
    "                \n",
    "            p = P\n",
    "            beta = self.backward_pass(obs)\n",
    "            delta, gamma = self._delta(obs, alpha, beta)\n",
    "            self._estimate(obs, delta, gamma)\n",
    "            \n",
    "        \n",
    "        \n",
    "    def dp(self,obs):\n",
    "        ### update for transposed A, B\n",
    "        delta = np.zeros((len(obs), self.num_state))\n",
    "        delta[0,:] = self.pi * self.B[:, obs[0]]\n",
    "\n",
    "        best_path = []\n",
    "        \n",
    "        for t in range(1, len(obs)):\n",
    "            probs = delta[t-1, :].reshape(2, 1) * self.A * self.B[:,obs[t]]\n",
    "\n",
    "            delta[t,:] = np.max(probs, axis=0)\n",
    "            i = np.argmax(delta[t,:])\n",
    "            best = np.argmax(probs[:,i])\n",
    "\n",
    "            best_path.append(best)\n",
    "\n",
    "        best_path.append(np.argmax(delta[-1,:]))\n",
    "        return best_path, np.max(delta[-1,:])\n",
    "        "
   ]
  },
  {
   "cell_type": "code",
   "execution_count": 363,
   "metadata": {},
   "outputs": [],
   "source": [
    "\n",
    "import string\n",
    "import codecs\n",
    "def vec_translate(a, my_dict):\n",
    "    # translate numpy array from symbols to state numbers or vice versa\n",
    "    return np.vectorize(my_dict.__getitem__)(a)\n",
    "def prep_data(filename):\n",
    "    # Get the data as a single string\n",
    "    with codecs.open(filename, encoding='utf-8') as f:\n",
    "        data=f.read().lower() #and convert to all lower case\n",
    "    # remove punctuation and newlines\n",
    "    remove_punct_map = {ord(char): None for char in string.punctuation+\"\\n\\r\"}\n",
    "    data = data.translate(remove_punct_map)\n",
    "    # make a list of the symbols in the data\n",
    "    symbols = sorted(list(set(data)))\n",
    "    # convert the data to a NumPy array of symbols\n",
    "    a = np.array(list(data))\n",
    "    #make a conversion dictionary from symbols to state numbers\n",
    "    symbols_to_obsstates = {x:i for i,x in enumerate(symbols)}\n",
    "    #convert the symbols in a to state numbers\n",
    "    obs_sequence = vec_translate(a,symbols_to_obsstates)\n",
    "    return symbols, obs_sequence\n"
   ]
  },
  {
   "cell_type": "markdown",
   "metadata": {},
   "source": [
    "## Test on Declaration\n",
    "\n",
    "### N = 2"
   ]
  },
  {
   "cell_type": "code",
   "execution_count": 364,
   "metadata": {},
   "outputs": [
    {
     "name": "stdout",
     "output_type": "stream",
     "text": [
      " , 0.2996, 0.0491\n",
      "a, 0.1316, 0.0000\n",
      "b, 0.0000, 0.0226\n",
      "c, 0.0000, 0.0438\n",
      "d, 0.0000, 0.0600\n",
      "e, 0.2370, 0.0000\n",
      "f, 0.0000, 0.0428\n",
      "g, 0.0000, 0.0309\n",
      "h, 0.0005, 0.0827\n",
      "i, 0.1239, 0.0000\n",
      "j, 0.0000, 0.0038\n",
      "k, 0.0004, 0.0030\n",
      "l, 0.0000, 0.0543\n",
      "m, 0.0000, 0.0343\n",
      "n, 0.0000, 0.1150\n",
      "o, 0.1378, 0.0032\n",
      "p, 0.0000, 0.0328\n",
      "q, 0.0000, 0.0014\n",
      "r, 0.0000, 0.1012\n",
      "s, 0.0000, 0.1138\n",
      "t, 0.0000, 0.1523\n",
      "u, 0.0577, 0.0000\n",
      "v, 0.0000, 0.0176\n",
      "w, 0.0000, 0.0231\n",
      "x, 0.0000, 0.0021\n",
      "y, 0.0116, 0.0093\n",
      "z, 0.0000, 0.0010\n"
     ]
    }
   ],
   "source": [
    "symbols, obs = prep_data('declaration.txt')\n",
    "M = len(symbols)\n",
    "N = 2\n",
    "A = np.random.dirichlet(np.ones(N), size=N).T\n",
    "B = np.random.dirichlet(np.ones(M), size=N).T\n",
    "pi = np.random.dirichlet(np.ones(N))\n",
    "h = hmm()\n",
    "h.fit(obs, A, B, pi)\n",
    "for i in xrange(len(h.B)):\n",
    "    print \"{0}, {1:0.4f}, {2:0.4f}\".format(symbols[i], h.B[i,0], h.B[i,1])\n",
    "    "
   ]
  },
  {
   "cell_type": "markdown",
   "metadata": {},
   "source": [
    "### N = 3"
   ]
  },
  {
   "cell_type": "code",
   "execution_count": 365,
   "metadata": {},
   "outputs": [
    {
     "name": "stdout",
     "output_type": "stream",
     "text": [
      " , 0.2764, 0.0219, 0.1688\n",
      "a, 0.0000, 0.2006, 0.0000\n",
      "b, 0.0171, 0.0000, 0.0178\n",
      "c, 0.0293, 0.0000, 0.0392\n",
      "d, 0.0515, 0.0000, 0.0399\n",
      "e, 0.0336, 0.3192, 0.0000\n",
      "f, 0.0235, 0.0000, 0.0445\n",
      "g, 0.0281, 0.0000, 0.0188\n",
      "h, 0.1172, 0.0000, 0.0000\n",
      "i, 0.0306, 0.1505, 0.0000\n",
      "j, 0.0054, 0.0000, 0.0000\n",
      "k, 0.0029, 0.0010, 0.0012\n",
      "l, 0.0427, 0.0000, 0.0408\n",
      "m, 0.0191, 0.0000, 0.0352\n",
      "n, 0.0052, 0.0000, 0.1893\n",
      "o, 0.0000, 0.2157, 0.0000\n",
      "p, 0.0291, 0.0000, 0.0207\n",
      "q, 0.0000, 0.0015, 0.0010\n",
      "r, 0.0474, 0.0000, 0.1149\n",
      "s, 0.0631, 0.0000, 0.1174\n",
      "t, 0.1488, 0.0000, 0.0797\n",
      "u, 0.0036, 0.0632, 0.0194\n",
      "v, 0.0038, 0.0000, 0.0253\n",
      "w, 0.0198, 0.0000, 0.0154\n",
      "x, 0.0000, 0.0000, 0.0036\n",
      "y, 0.0016, 0.0264, 0.0055\n",
      "z, 0.0000, 0.0000, 0.0016\n"
     ]
    }
   ],
   "source": [
    "N = 3\n",
    "A = np.random.dirichlet(np.ones(N), size=N).T\n",
    "B = np.random.dirichlet(np.ones(M), size=N).T\n",
    "pi = np.random.dirichlet(np.ones(N))\n",
    "h = hmm()\n",
    "h.fit(obs, A, B, pi)\n",
    "for i in xrange(len(h.B)):\n",
    "    print \"{0}, {1:0.4f}, {2:0.4f}, {3:0.4f}\".format(symbols[i], h.B[i,0], h.B[i,1], h.B[i,2])\n",
    "    "
   ]
  },
  {
   "cell_type": "markdown",
   "metadata": {},
   "source": [
    "### N=4"
   ]
  },
  {
   "cell_type": "code",
   "execution_count": 367,
   "metadata": {},
   "outputs": [
    {
     "name": "stdout",
     "output_type": "stream",
     "text": [
      " , 0.9180, 0.0000, 0.0000, 0.0000\n",
      "a, 0.0084, 0.1929, 0.0000, 0.0000\n",
      "b, 0.0000, 0.0130, 0.0354, 0.0000\n",
      "c, 0.0123, 0.0000, 0.0726, 0.0164\n",
      "d, 0.0000, 0.0000, 0.0348, 0.0857\n",
      "e, 0.0000, 0.2212, 0.0000, 0.1473\n",
      "f, 0.0000, 0.0000, 0.0461, 0.0440\n",
      "g, 0.0000, 0.0000, 0.0300, 0.0344\n",
      "h, 0.0000, 0.1067, 0.0510, 0.0000\n",
      "i, 0.0437, 0.1607, 0.0000, 0.0000\n",
      "j, 0.0000, 0.0000, 0.0089, 0.0000\n",
      "k, 0.0002, 0.0015, 0.0056, 0.0000\n",
      "l, 0.0000, 0.0118, 0.0569, 0.0441\n",
      "m, 0.0008, 0.0000, 0.0429, 0.0298\n",
      "n, 0.0000, 0.0000, 0.0183, 0.2037\n",
      "o, 0.0000, 0.2006, 0.0163, 0.0000\n",
      "p, 0.0023, 0.0047, 0.0687, 0.0000\n",
      "q, 0.0000, 0.0000, 0.0033, 0.0000\n",
      "r, 0.0000, 0.0000, 0.0986, 0.1122\n",
      "s, 0.0062, 0.0000, 0.0706, 0.1550\n",
      "t, 0.0000, 0.0000, 0.2551, 0.0822\n",
      "u, 0.0082, 0.0819, 0.0000, 0.0000\n",
      "v, 0.0000, 0.0000, 0.0376, 0.0029\n",
      "w, 0.0000, 0.0000, 0.0402, 0.0112\n",
      "x, 0.0000, 0.0000, 0.0050, 0.0000\n",
      "y, 0.0000, 0.0051, 0.0000, 0.0311\n",
      "z, 0.0000, 0.0000, 0.0022, 0.0000\n"
     ]
    }
   ],
   "source": [
    "N = 4\n",
    "A = np.random.dirichlet(np.ones(N), size=N).T\n",
    "B = np.random.dirichlet(np.ones(M), size=N).T\n",
    "pi = np.random.dirichlet(np.ones(N))\n",
    "h = hmm()\n",
    "h.fit(obs, A, B, pi)\n",
    "for i in xrange(len(h.B)):\n",
    "    print \"{0}, {1:0.4f}, {2:0.4f}, {3:0.4f}, {4:0.4f}\".format(symbols[i], h.B[i,0], h.B[i,1], h.B[i,2], h.B[i,3])"
   ]
  },
  {
   "cell_type": "markdown",
   "metadata": {},
   "source": [
    "In these examples, we see that the vowels are pretty consistently grouped together, with a little bit of extra spread as N increases.  The consonants get scattered into different groups in ways that are hard to interpret from a superficial perusing of the results.  Could it be by phoneme?  By frequency?  By what letters most commonly follow or precede them?  Deeper research could perhaps elucidate this mystery, but for an assignment on conference weekend this sufficeth me."
   ]
  },
  {
   "cell_type": "markdown",
   "metadata": {},
   "source": [
    "## Test on War and Peace\n",
    "\n",
    "\n",
    "### N = 2"
   ]
  },
  {
   "cell_type": "code",
   "execution_count": 375,
   "metadata": {
    "collapsed": true
   },
   "outputs": [],
   "source": [
    "symbols, obs = prep_data('warandpeace.txt')\n",
    "M = len(symbols)"
   ]
  },
  {
   "cell_type": "code",
   "execution_count": 370,
   "metadata": {},
   "outputs": [
    {
     "name": "stdout",
     "output_type": "stream",
     "text": [
      " , 0.2148, 0.0881\n",
      "́, 0.0001, 0.0000\n",
      "а, 0.0000, 0.1751\n",
      "б, 0.0251, 0.0000\n",
      "в, 0.0657, 0.0000\n",
      "г, 0.0297, 0.0000\n",
      "д, 0.0386, 0.0001\n",
      "е, 0.0177, 0.1425\n",
      "ж, 0.0140, 0.0000\n",
      "з, 0.0253, 0.0000\n",
      "и, 0.0003, 0.1328\n",
      "й, 0.0150, 0.0000\n",
      "к, 0.0498, 0.0011\n",
      "л, 0.0721, 0.0000\n",
      "м, 0.0383, 0.0000\n",
      "н, 0.0976, 0.0000\n",
      "о, 0.0000, 0.2396\n",
      "п, 0.0352, 0.0055\n",
      "р, 0.0599, 0.0000\n",
      "с, 0.0514, 0.0280\n",
      "т, 0.0782, 0.0000\n",
      "у, 0.0000, 0.0587\n",
      "ф, 0.0018, 0.0003\n",
      "х, 0.0111, 0.0000\n",
      "ц, 0.0050, 0.0000\n",
      "ч, 0.0168, 0.0038\n",
      "ш, 0.0109, 0.0000\n",
      "щ, 0.0047, 0.0000\n",
      "ъ, 0.0003, 0.0003\n",
      "ы, 0.0000, 0.0374\n",
      "ь, 0.0000, 0.0445\n",
      "э, 0.0000, 0.0065\n",
      "ю, 0.0079, 0.0025\n",
      "я, 0.0126, 0.0330\n",
      "ё, 0.0000, 0.0001\n"
     ]
    }
   ],
   "source": [
    "N = 2\n",
    "A = np.random.dirichlet(np.ones(N), size=N).T\n",
    "B = np.random.dirichlet(np.ones(M), size=N).T\n",
    "pi = np.random.dirichlet(np.ones(N))\n",
    "h = hmm()\n",
    "h.fit(obs, A, B, pi)\n",
    "for i in xrange(len(h.B)):\n",
    "    print u\"{0}, {1:0.4f}, {2:0.4f}\".format(symbols[i], h.B[i,0], h.B[i,1])"
   ]
  },
  {
   "cell_type": "markdown",
   "metadata": {},
   "source": [
    "### N = 3"
   ]
  },
  {
   "cell_type": "code",
   "execution_count": 374,
   "metadata": {},
   "outputs": [
    {
     "name": "stdout",
     "output_type": "stream",
     "text": [
      " , 0.0387, 0.0991, 0.3992\n",
      "́, 0.0000, 0.0000, 0.0003\n",
      "а, 0.2079, 0.0000, 0.0000\n",
      "б, 0.0000, 0.0295, 0.0153\n",
      "в, 0.0000, 0.0743, 0.0501\n",
      "г, 0.0000, 0.0333, 0.0127\n",
      "д, 0.0000, 0.0430, 0.0215\n",
      "е, 0.1551, 0.0000, 0.0448\n",
      "ж, 0.0000, 0.0165, 0.0068\n",
      "з, 0.0000, 0.0285, 0.0183\n",
      "и, 0.1385, 0.0000, 0.0094\n",
      "й, 0.0000, 0.0000, 0.0328\n",
      "к, 0.0000, 0.0643, 0.0322\n",
      "л, 0.0000, 0.1041, 0.0288\n",
      "м, 0.0000, 0.0440, 0.0239\n",
      "н, 0.0000, 0.1303, 0.0432\n",
      "о, 0.2677, 0.0000, 0.0000\n",
      "п, 0.0000, 0.0461, 0.0293\n",
      "р, 0.0000, 0.0881, 0.0132\n",
      "с, 0.0005, 0.0415, 0.0982\n",
      "т, 0.0000, 0.0998, 0.0319\n",
      "у, 0.0640, 0.0000, 0.0029\n",
      "ф, 0.0000, 0.0010, 0.0019\n",
      "х, 0.0000, 0.0094, 0.0072\n",
      "ц, 0.0000, 0.0098, 0.0001\n",
      "ч, 0.0000, 0.0159, 0.0140\n",
      "ш, 0.0000, 0.0128, 0.0051\n",
      "щ, 0.0000, 0.0083, 0.0000\n",
      "ъ, 0.0006, 0.0002, 0.0000\n",
      "ы, 0.0380, 0.0000, 0.0000\n",
      "ь, 0.0483, 0.0000, 0.0000\n",
      "э, 0.0000, 0.0000, 0.0089\n",
      "ю, 0.0035, 0.0000, 0.0195\n",
      "я, 0.0372, 0.0000, 0.0287\n",
      "ё, 0.0001, 0.0000, 0.0000\n",
      "﻿, 0.0000, 0.0001, 0.0000\n"
     ]
    }
   ],
   "source": [
    "N = 3\n",
    "A = np.random.dirichlet(np.ones(N), size=N).T\n",
    "B = np.random.dirichlet(np.ones(M), size=N).T\n",
    "pi = np.random.dirichlet(np.ones(N))\n",
    "h = hmm()\n",
    "h.fit(obs, A, B, pi)\n",
    "for i in xrange(len(h.B)):\n",
    "    print u\"{0}, {1:0.4f}, {2:0.4f}, {3:0.4f}\".format(symbols[i], h.B[i,0], h.B[i,1], h.B[i,2])"
   ]
  },
  {
   "cell_type": "markdown",
   "metadata": {},
   "source": [
    "From these we see that the HMM does a pretty good job of grouping the letters up, although since I don't know Russian I can't say for sure whether they are grouped as vowels and consonants or not.  It looks like the letters similar to an a, e, backwards N, o, y, b, and backwards R could function as vowels, and perhaps a couple others."
   ]
  },
  {
   "cell_type": "markdown",
   "metadata": {
    "collapsed": true
   },
   "source": [
    "# Gaussian HMM"
   ]
  },
  {
   "cell_type": "code",
   "execution_count": 71,
   "metadata": {},
   "outputs": [],
   "source": [
    "# Create some data to train on\n",
    "\n",
    "n = 2\n",
    "t = 5000\n",
    "pi=  [.3, .7]\n",
    "a = np.array([[.4, .6],[.9, .1]])\n",
    "mu1 = np.array([2,0])\n",
    "mu2 = np.array([0,2])\n",
    "sig1 = np.eye(2)\n",
    "sig2 = np.array([[.5, 0],[0, 1]])"
   ]
  },
  {
   "cell_type": "code",
   "execution_count": 72,
   "metadata": {
    "collapsed": true
   },
   "outputs": [],
   "source": [
    "np.random.seed(117)\n",
    "def generate_obs(pi, A, mus, sigs, T):\n",
    "    # According to instructions on Jarvis's blackboard\n",
    "    x0 = np.random.choice(range(len(pi)), p=pi)\n",
    "    xs = [x0]\n",
    "    zs = [np.random.multivariate_normal(mus[x0], sigs[x0])]\n",
    "    for t in range(T-1):\n",
    "        newx = np.random.choice(range(len(pi)), p=A[xs[-1]])\n",
    "        xs.append(newx)\n",
    "        zs.append(np.random.multivariate_normal(mus[newx], sigs[newx]))\n",
    "    \n",
    "    return zs"
   ]
  },
  {
   "cell_type": "code",
   "execution_count": 67,
   "metadata": {},
   "outputs": [],
   "source": [
    "zs = generate_obs(pi, a, [mu1, mu2], [sig1, sig2], t)"
   ]
  },
  {
   "cell_type": "code",
   "execution_count": 68,
   "metadata": {},
   "outputs": [
    {
     "data": {
      "text/plain": [
       "[array([-0.53381675,  0.98784833]),\n",
       " array([ 2.10233039,  0.03857716]),\n",
       " array([ 0.31282536,  2.27098698]),\n",
       " array([ 2.46506266, -0.70171807]),\n",
       " array([ 1.60178798,  0.07056172])]"
      ]
     },
     "execution_count": 68,
     "metadata": {},
     "output_type": "execute_result"
    }
   ],
   "source": [
    "zs[:5]"
   ]
  },
  {
   "cell_type": "markdown",
   "metadata": {},
   "source": [
    "### The Gaussian HMM class"
   ]
  },
  {
   "cell_type": "code",
   "execution_count": 70,
   "metadata": {
    "collapsed": true
   },
   "outputs": [],
   "source": [
    "class hmmg(object):\n",
    "    def __init__(self):#(self, A, B, pi):\n",
    "#         self.A = A\n",
    "#         self.B = B\n",
    "#         self.pi = pi\n",
    "#         self.num_state = A.shape[0]\n",
    "        pass\n",
    "        \n",
    "    def forward_pass(self, obs):\n",
    "        alpha = np.zeros((len(obs), self.num_state))\n",
    "        c1 = 1. / sum(self.pi * self.B[obs[0],:])\n",
    "        alpha[0,:] = c1 * (self.pi * self.B[obs[0],:])\n",
    "        cs = [c1]\n",
    "        \n",
    "        for t in range(1, len(obs)):\n",
    "            ct = 1. / sum(self.A.dot(alpha[t-1,:]) * B[obs[t],:])\n",
    "            alpha[t,:] = ct * (self.A.dot(alpha[t-1,:]) * B[obs[t],:])\n",
    "            cs.append(ct)\n",
    "    \n",
    "        return alpha, np.array(cs)\n",
    "    \n",
    "    def backward_pass(self, obs):\n",
    "        a, c = self.forward_pass(obs)\n",
    "        T = len(obs) - 1\n",
    "        beta = np.zeros((len(obs), self.num_state))\n",
    "        beta[T,:] = np.array([c[T] for _ in range(self.num_state)])\n",
    "        for t in range(T-1, -1, -1):\n",
    "            beta[t,:] = c[t] * A.T.dot(B[obs[t+1],:] * beta[t+1])\n",
    "            \n",
    "        return beta\n",
    "    \n",
    "    def _delta(self, obs, alpha, beta):\n",
    "        T = len(obs)\n",
    "        delta = np.zeros((T - 1, self.num_state, self.num_state))\n",
    "        gamma = np.zeros((len(obs), self.num_state))\n",
    "        \n",
    "        for t in range(T-1):\n",
    "            denom = 0\n",
    "            for k in range(self.num_state):\n",
    "                for l in range(self.num_state):\n",
    "                    denom += alpha[t,k] * self.A[l,k] * self.B[obs[t+1],l] * beta[t+1,l]\n",
    "            \n",
    "            for i in range(self.num_state):\n",
    "                for j in range(self.num_state):\n",
    "                    delta[t,i,j] = (alpha[t,i]*self.A[j,i]*self.B[obs[t+1],j]*beta[t+1,j]) / denom\n",
    "                gamma[t,i] = sum(delta[t,i,:])\n",
    "        \n",
    "        gamma[T-1,:] = alpha[T-1,:] * beta[T-1,:] / sum(alpha[T-1,:] * beta[T-1,:])\n",
    "                    \n",
    "        return delta, gamma\n",
    "            \n",
    "        \n",
    "    def _estimate(self, obs, delta, gamma):\n",
    "        \"\"\"\n",
    "        Estimate better parameter values.\n",
    "        Parameters\n",
    "        ----------\n",
    "        obs : ndarray of shape (T,)\n",
    "        The observation sequence\n",
    "        delta : ndarray of shape (T-1,N,N)\n",
    "        The delta probability array\n",
    "        gamma : ndarray of shape (T,N)\n",
    "        The gamma probability array\n",
    "        \"\"\"\n",
    "        self.pi = gamma[0,:]\n",
    "    \n",
    "        # update A\n",
    "        for i in range(self.A.shape[0]):\n",
    "            for j in range(self.A.shape[1]):\n",
    "                num = 0\n",
    "                den = 0\n",
    "                for t in range(len(obs) - 1):\n",
    "                    num += delta[t,j,i]\n",
    "                    den += gamma[t,j]\n",
    "                A[i,j] = num / den\n",
    "    \n",
    "        #update B\n",
    "        for i in range(self.B.shape[0]):\n",
    "            for j in range(self.B.shape[1]):\n",
    "                self.B[i,j] = np.sum(gamma[:,j]*(np.array(obs)==i)) / np.sum(gamma[:,j])\n",
    "                \n",
    "        # print self.pi, self.A, self.B\n",
    "\n",
    "    def fit(self, obs, A, B, pi, max_iter=200, tol=1e-3):\n",
    "        \n",
    "        M = len(set(obs))\n",
    "        N = A.shape[0]\n",
    "        self.num_state = N\n",
    "        self.A = A\n",
    "        self.B = B\n",
    "        self.pi = pi\n",
    "        \n",
    "        p = np.inf\n",
    "        for i in range(max_iter):\n",
    "#             print i\n",
    "            alpha, cs = self.forward_pass(obs)\n",
    "            P = -(np.log(cs)).sum()\n",
    "            if (abs(P - p) < tol): break\n",
    "#             if P < -21550: break\n",
    "                \n",
    "            p = P\n",
    "            beta = self.backward_pass(obs)\n",
    "            delta, gamma = self._delta(obs, alpha, beta)\n",
    "            self._estimate(obs, delta, gamma)\n",
    "            \n",
    "        \n",
    "        \n",
    "    def dp(self,obs):\n",
    "        ### update for transposed A, B\n",
    "        delta = np.zeros((len(obs), self.num_state))\n",
    "        delta[0,:] = self.pi * self.B[:, obs[0]]\n",
    "\n",
    "        best_path = []\n",
    "        \n",
    "        for t in range(1, len(obs)):\n",
    "            probs = delta[t-1, :].reshape(2, 1) * self.A * self.B[:,obs[t]]\n",
    "\n",
    "            delta[t,:] = np.max(probs, axis=0)\n",
    "            i = np.argmax(delta[t,:])\n",
    "            best = np.argmax(probs[:,i])\n",
    "\n",
    "            best_path.append(best)\n",
    "\n",
    "        best_path.append(np.argmax(delta[-1,:]))\n",
    "        return best_path, np.max(delta[-1,:])\n",
    "        "
   ]
  },
  {
   "cell_type": "code",
   "execution_count": null,
   "metadata": {
    "collapsed": true
   },
   "outputs": [],
   "source": []
  }
 ],
 "metadata": {
  "kernelspec": {
   "display_name": "Python 3",
   "language": "python",
   "name": "python3"
  },
  "language_info": {
   "codemirror_mode": {
    "name": "ipython",
    "version": 3
   },
   "file_extension": ".py",
   "mimetype": "text/x-python",
   "name": "python",
   "nbconvert_exporter": "python",
   "pygments_lexer": "ipython3",
   "version": "3.7.1"
  }
 },
 "nbformat": 4,
 "nbformat_minor": 2
}
