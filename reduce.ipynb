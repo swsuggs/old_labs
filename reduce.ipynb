{
 "cells": [
  {
   "cell_type": "markdown",
   "metadata": {},
   "source": [
    "# Exploration of dimension reduction"
   ]
  },
  {
   "cell_type": "code",
   "execution_count": 1,
   "metadata": {
    "collapsed": true
   },
   "outputs": [],
   "source": [
    "from sklearn import svm\n",
    "from sklearn.ensemble import RandomForestClassifier as rf\n",
    "\n",
    "from sklearn.datasets import load_breast_cancer\n",
    "from sklearn.datasets import load_digits\n",
    "from sklearn.datasets import fetch_olivetti_faces\n",
    "\n",
    "from sklearn.model_selection import train_test_split\n",
    "import numpy as np\n",
    "from sklearn import metrics\n",
    "from sklearn.model_selection import cross_val_score\n",
    "from sklearn import preprocessing\n",
    "from sklearn.decomposition import PCA"
   ]
  },
  {
   "cell_type": "markdown",
   "metadata": {},
   "source": [
    "# Digits\n",
    "\n",
    "We use PCA to reduce the dimension of this data, since they are images and all units are the same (pixel values).\n",
    "\n",
    "### Before PCA"
   ]
  },
  {
   "cell_type": "code",
   "execution_count": 2,
   "metadata": {
    "collapsed": true
   },
   "outputs": [],
   "source": [
    "# Get data\n",
    "dX, dy = load_digits(return_X_y=True)\n",
    "dX_train, dX_test, dy_train, dy_test = train_test_split(dX, dy, test_size=.3, random_state=61)"
   ]
  },
  {
   "cell_type": "code",
   "execution_count": 3,
   "metadata": {
    "collapsed": false
   },
   "outputs": [
    {
     "name": "stdout",
     "output_type": "stream",
     "text": [
      "10 loops, best of 3: 42.1 ms per loop\n"
     ]
    }
   ],
   "source": [
    "%%timeit\n",
    "preds = svm.SVC(C=10**1, kernel='poly', gamma=10**-2, coef0=1).fit(dX_train, dy_train).predict(dX_test)"
   ]
  },
  {
   "cell_type": "code",
   "execution_count": 4,
   "metadata": {
    "collapsed": false
   },
   "outputs": [
    {
     "name": "stdout",
     "output_type": "stream",
     "text": [
      "Pre-pca Accuracy:  0.983333333333\n"
     ]
    }
   ],
   "source": [
    "preds = svm.SVC(C=10**1, kernel='poly', gamma=10**-2, coef0=1).fit(dX_train, dy_train).predict(dX_test)\n",
    "print \"Pre-pca Accuracy: \", 1.* sum(preds == dy_test) / len(preds)"
   ]
  },
  {
   "cell_type": "markdown",
   "metadata": {},
   "source": [
    "### After pca, keeping .25 of the features"
   ]
  },
  {
   "cell_type": "code",
   "execution_count": 5,
   "metadata": {
    "collapsed": false
   },
   "outputs": [],
   "source": [
    "# Reduce features\n",
    "red_dX = PCA(int(.25 * dX.shape[1])).fit_transform(dX)\n",
    "dX_train, dX_test, dy_train, dy_test = train_test_split(red_dX, dy, test_size=.3, random_state=61)"
   ]
  },
  {
   "cell_type": "code",
   "execution_count": 6,
   "metadata": {
    "collapsed": false
   },
   "outputs": [
    {
     "name": "stdout",
     "output_type": "stream",
     "text": [
      "10 loops, best of 3: 28.2 ms per loop\n"
     ]
    }
   ],
   "source": [
    "%%timeit\n",
    "preds = svm.SVC(C=10**1, kernel='poly', gamma=10**-2, coef0=1).fit(dX_train, dy_train).predict(dX_test)"
   ]
  },
  {
   "cell_type": "code",
   "execution_count": 7,
   "metadata": {
    "collapsed": false
   },
   "outputs": [
    {
     "name": "stdout",
     "output_type": "stream",
     "text": [
      "Post-pca Accuracy:  0.987037037037\n"
     ]
    }
   ],
   "source": [
    "preds = svm.SVC(C=10**1, kernel='poly', gamma=10**-2, coef0=1).fit(dX_train, dy_train).predict(dX_test)\n",
    "print \"Post-pca Accuracy: \", 1.* sum(preds == dy_test) / len(preds)"
   ]
  },
  {
   "cell_type": "markdown",
   "metadata": {},
   "source": [
    "Reducing the dimension slightly increased accuracy and also took shorter to train.  Shorter training time is very expected, since there are fewer features to train on.  The increased accuracy could be a result of getting rid of some noise or other superfluous information.\n",
    "\n",
    "\n",
    "# Faces\n",
    "\n",
    "Again we use PCA to reduce the dimension of this data since they are also images and all units are the same.\n",
    "\n",
    "### Before PCA"
   ]
  },
  {
   "cell_type": "code",
   "execution_count": 8,
   "metadata": {
    "collapsed": true
   },
   "outputs": [],
   "source": [
    "# Get data\n",
    "item = fetch_olivetti_faces()\n",
    "fX = item.data\n",
    "fy = item.target\n",
    "fX_train, fX_test, fy_train, fy_test = train_test_split(fX, fy, test_size = .3, random_state=100)"
   ]
  },
  {
   "cell_type": "code",
   "execution_count": 9,
   "metadata": {
    "collapsed": false
   },
   "outputs": [
    {
     "name": "stdout",
     "output_type": "stream",
     "text": [
      "1 loop, best of 3: 599 ms per loop\n"
     ]
    }
   ],
   "source": [
    "%%timeit\n",
    "preds = svm.SVC(C=10**1, kernel='poly', gamma=10**-2, coef0=1).fit(fX_train, fy_train).predict(fX_test)"
   ]
  },
  {
   "cell_type": "code",
   "execution_count": 10,
   "metadata": {
    "collapsed": false
   },
   "outputs": [
    {
     "name": "stdout",
     "output_type": "stream",
     "text": [
      "Pre-pca Accuracy:  0.933333333333\n"
     ]
    }
   ],
   "source": [
    "preds = svm.SVC(C=10**1, kernel='poly', gamma=10**-2, coef0=1).fit(fX_train, fy_train).predict(fX_test)\n",
    "print \"Pre-pca Accuracy: \", 1.* sum(preds == fy_test) / len(preds)"
   ]
  },
  {
   "cell_type": "markdown",
   "metadata": {},
   "source": [
    "### After PCA, keeping .25 of the features"
   ]
  },
  {
   "cell_type": "code",
   "execution_count": 11,
   "metadata": {
    "collapsed": true
   },
   "outputs": [],
   "source": [
    "# Reduce features\n",
    "red_fX = PCA(int(.25 * fX.shape[1])).fit_transform(fX)\n",
    "fX_train, fX_test, fy_train, fy_test = train_test_split(red_fX, fy, test_size=.3, random_state=100)"
   ]
  },
  {
   "cell_type": "code",
   "execution_count": 12,
   "metadata": {
    "collapsed": false
   },
   "outputs": [
    {
     "name": "stdout",
     "output_type": "stream",
     "text": [
      "10 loops, best of 3: 75.1 ms per loop\n"
     ]
    }
   ],
   "source": [
    "%%timeit\n",
    "preds = svm.SVC(C=10**1, kernel='poly', gamma=10**-2, coef0=1).fit(fX_train, fy_train).predict(fX_test)"
   ]
  },
  {
   "cell_type": "code",
   "execution_count": 13,
   "metadata": {
    "collapsed": false
   },
   "outputs": [
    {
     "name": "stdout",
     "output_type": "stream",
     "text": [
      "Post-pca Accuracy:  0.933333333333\n"
     ]
    }
   ],
   "source": [
    "preds = svm.SVC(C=10**1, kernel='poly', gamma=10**-2, coef0=1).fit(fX_train, fy_train).predict(fX_test)\n",
    "print \"Post-pca Accuracy: \", 1.* sum(preds == fy_test) / len(preds)"
   ]
  },
  {
   "cell_type": "markdown",
   "metadata": {},
   "source": [
    "Reducing dimension greatly reduced training time, while suffering no setback in accuracy.\n",
    "\n",
    "\n",
    "# Cancer\n",
    "\n",
    "We use the tree dimension reduction method.  Since the features have different units, PCA is not a viable option.\n",
    "\n",
    "### Before reduction"
   ]
  },
  {
   "cell_type": "code",
   "execution_count": 14,
   "metadata": {
    "collapsed": false
   },
   "outputs": [],
   "source": [
    "# Get data\n",
    "dX, dy = load_digits(return_X_y=True)\n",
    "dX_train, dX_test, dy_train, dy_test = train_test_split(dX, dy, test_size=.3, random_state=61)"
   ]
  },
  {
   "cell_type": "code",
   "execution_count": 15,
   "metadata": {
    "collapsed": false
   },
   "outputs": [
    {
     "name": "stdout",
     "output_type": "stream",
     "text": [
      "The slowest run took 4.08 times longer than the fastest. This could mean that an intermediate result is being cached.\n",
      "10 loops, best of 3: 38.6 ms per loop\n"
     ]
    }
   ],
   "source": [
    "%%timeit\n",
    "preds = rf().fit(dX_train, dy_train).predict(dX_test)"
   ]
  },
  {
   "cell_type": "code",
   "execution_count": 16,
   "metadata": {
    "collapsed": false
   },
   "outputs": [
    {
     "name": "stdout",
     "output_type": "stream",
     "text": [
      "Pre-reduction Accuracy:  0.940740740741\n"
     ]
    }
   ],
   "source": [
    "preds = rf().fit(dX_train, dy_train).predict(dX_test)\n",
    "print \"Pre-reduction Accuracy: \", 1.* sum(preds == dy_test) / len(preds)"
   ]
  },
  {
   "cell_type": "markdown",
   "metadata": {},
   "source": [
    "### After reduction"
   ]
  },
  {
   "cell_type": "code",
   "execution_count": 17,
   "metadata": {
    "collapsed": true
   },
   "outputs": [],
   "source": [
    "# Reduce features\n",
    "model = rf().fit(dX_train, dy_train)\n",
    "imps = model.feature_importances_  # get importances\n",
    "best = imps.argsort()[-int(.25*len(imps)):][::-1]  # sort by \n",
    "red_dX = dX[:,best]\n",
    "dX_train, dX_test, dy_train, dy_test = train_test_split(red_dX, dy, test_size=.3, random_state=61)"
   ]
  },
  {
   "cell_type": "code",
   "execution_count": 18,
   "metadata": {
    "collapsed": false
   },
   "outputs": [
    {
     "name": "stdout",
     "output_type": "stream",
     "text": [
      "10 loops, best of 3: 35.2 ms per loop\n"
     ]
    }
   ],
   "source": [
    "%%timeit\n",
    "preds = rf().fit(dX_train, dy_train).predict(dX_test)"
   ]
  },
  {
   "cell_type": "code",
   "execution_count": 19,
   "metadata": {
    "collapsed": false
   },
   "outputs": [
    {
     "name": "stdout",
     "output_type": "stream",
     "text": [
      "Post-reduction Accuracy:  0.927777777778\n"
     ]
    }
   ],
   "source": [
    "preds = rf().fit(dX_train, dy_train).predict(dX_test)\n",
    "print \"Post-reduction Accuracy: \", 1.* sum(preds == dy_test) / len(preds)"
   ]
  },
  {
   "cell_type": "markdown",
   "metadata": {},
   "source": [
    "For me, reducing dimension slightly decreased my accuracy for the cancer dataset, using random forest for classification.  It did speed up fitting though."
   ]
  },
  {
   "cell_type": "code",
   "execution_count": null,
   "metadata": {
    "collapsed": true
   },
   "outputs": [],
   "source": []
  }
 ],
 "metadata": {
  "kernelspec": {
   "display_name": "Python 2",
   "language": "python",
   "name": "python2"
  },
  "language_info": {
   "codemirror_mode": {
    "name": "ipython",
    "version": 2
   },
   "file_extension": ".py",
   "mimetype": "text/x-python",
   "name": "python",
   "nbconvert_exporter": "python",
   "pygments_lexer": "ipython2",
   "version": "2.7.13"
  }
 },
 "nbformat": 4,
 "nbformat_minor": 2
}
