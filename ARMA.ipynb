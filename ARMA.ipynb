{
 "cells": [
  {
   "cell_type": "code",
   "execution_count": 2,
   "metadata": {
    "collapsed": true
   },
   "outputs": [],
   "source": [
    "import numpy as np\n",
    "from scipy import optimize as op\n",
    "from numpy import linalg as la\n",
    "from scipy.stats.distributions import norm\n",
    "from matplotlib import pyplot as plt\n",
    "%matplotlib inline"
   ]
  },
  {
   "cell_type": "markdown",
   "metadata": {},
   "source": [
    "# Problem 1"
   ]
  },
  {
   "cell_type": "code",
   "execution_count": 3,
   "metadata": {
    "collapsed": false
   },
   "outputs": [
    {
     "ename": "IOError",
     "evalue": "[Errno 2] No such file or directory: 'ARMA-Kalman-data/time_series_a.txt'",
     "output_type": "error",
     "traceback": [
      "\u001b[0;31m---------------------------------------------------------------------------\u001b[0m",
      "\u001b[0;31mIOError\u001b[0m                                   Traceback (most recent call last)",
      "\u001b[0;32m<ipython-input-3-c29deb72cfa6>\u001b[0m in \u001b[0;36m<module>\u001b[0;34m()\u001b[0m\n\u001b[0;32m----> 1\u001b[0;31m \u001b[1;32mwith\u001b[0m \u001b[0mopen\u001b[0m\u001b[1;33m(\u001b[0m\u001b[1;34m'ARMA-Kalman-data/time_series_a.txt'\u001b[0m\u001b[1;33m)\u001b[0m \u001b[1;32mas\u001b[0m \u001b[0ma\u001b[0m\u001b[1;33m:\u001b[0m\u001b[1;33m\u001b[0m\u001b[0m\n\u001b[0m\u001b[1;32m      2\u001b[0m     \u001b[0mtime_series_a\u001b[0m \u001b[1;33m=\u001b[0m \u001b[0mnp\u001b[0m\u001b[1;33m.\u001b[0m\u001b[0marray\u001b[0m\u001b[1;33m(\u001b[0m\u001b[0mmap\u001b[0m\u001b[1;33m(\u001b[0m\u001b[0mfloat\u001b[0m\u001b[1;33m,\u001b[0m\u001b[0ma\u001b[0m\u001b[1;33m.\u001b[0m\u001b[0mreadline\u001b[0m\u001b[1;33m(\u001b[0m\u001b[1;33m)\u001b[0m\u001b[1;33m.\u001b[0m\u001b[0msplit\u001b[0m\u001b[1;33m(\u001b[0m\u001b[1;33m)\u001b[0m\u001b[1;33m)\u001b[0m\u001b[1;33m)\u001b[0m\u001b[1;33m\u001b[0m\u001b[0m\n\u001b[1;32m      3\u001b[0m \u001b[1;32mwith\u001b[0m \u001b[0mopen\u001b[0m\u001b[1;33m(\u001b[0m\u001b[1;34m'ARMA-Kalman-data/time_series_b.txt'\u001b[0m\u001b[1;33m)\u001b[0m \u001b[1;32mas\u001b[0m \u001b[0mb\u001b[0m\u001b[1;33m:\u001b[0m\u001b[1;33m\u001b[0m\u001b[0m\n\u001b[1;32m      4\u001b[0m     \u001b[0mtime_series_b\u001b[0m \u001b[1;33m=\u001b[0m \u001b[0mnp\u001b[0m\u001b[1;33m.\u001b[0m\u001b[0marray\u001b[0m\u001b[1;33m(\u001b[0m\u001b[0mmap\u001b[0m\u001b[1;33m(\u001b[0m\u001b[0mfloat\u001b[0m\u001b[1;33m,\u001b[0m\u001b[0mb\u001b[0m\u001b[1;33m.\u001b[0m\u001b[0mreadline\u001b[0m\u001b[1;33m(\u001b[0m\u001b[1;33m)\u001b[0m\u001b[1;33m.\u001b[0m\u001b[0msplit\u001b[0m\u001b[1;33m(\u001b[0m\u001b[1;33m)\u001b[0m\u001b[1;33m)\u001b[0m\u001b[1;33m)\u001b[0m\u001b[1;33m\u001b[0m\u001b[0m\n\u001b[1;32m      5\u001b[0m \u001b[1;32mwith\u001b[0m \u001b[0mopen\u001b[0m\u001b[1;33m(\u001b[0m\u001b[1;34m'ARMA-Kalman-data/time_series_c.txt'\u001b[0m\u001b[1;33m)\u001b[0m \u001b[1;32mas\u001b[0m \u001b[0mc\u001b[0m\u001b[1;33m:\u001b[0m\u001b[1;33m\u001b[0m\u001b[0m\n",
      "\u001b[0;31mIOError\u001b[0m: [Errno 2] No such file or directory: 'ARMA-Kalman-data/time_series_a.txt'"
     ]
    }
   ],
   "source": [
    "with open('ARMA-Kalman-data/time_series_a.txt') as a:\n",
    "    time_series_a = np.array(map(float,a.readline().split()))\n",
    "with open('ARMA-Kalman-data/time_series_b.txt') as b:\n",
    "    time_series_b = np.array(map(float,b.readline().split()))\n",
    "with open('ARMA-Kalman-data/time_series_c.txt') as c:\n",
    "    time_series_c = np.array(map(float,c.readline().split()))"
   ]
  },
  {
   "cell_type": "code",
   "execution_count": 3,
   "metadata": {
    "collapsed": false
   },
   "outputs": [
    {
     "name": "stderr",
     "output_type": "stream",
     "text": [
      "/Users/benehlert/anaconda/lib/python2.7/site-packages/numpy/lib/twodim_base.py:233: VisibleDeprecationWarning: using a non-integer number instead of an integer will result in an error in the future\n",
      "  m = zeros((N, M), dtype=dtype)\n",
      "/Users/benehlert/anaconda/lib/python2.7/site-packages/numpy/lib/twodim_base.py:240: VisibleDeprecationWarning: using a non-integer number instead of an integer will result in an error in the future\n",
      "  m[:M-k].flat[i::M+1] = 1\n"
     ]
    },
    {
     "data": {
      "text/plain": [
       "-77.603544965522758"
      ]
     },
     "execution_count": 3,
     "metadata": {},
     "output_type": "execute_result"
    }
   ],
   "source": [
    "def arma_likelihood(time_series, phis=np.array([]), thetas=np.array([]), mu=0., sigma=1.):\n",
    "    \"\"\"\n",
    "    Return the log-likelihood of the ARMA model parameters, given the time\n",
    "    series.\n",
    "    Parameters\n",
    "    ----------\n",
    "    time_series : ndarray of shape (n,1)\n",
    "        The time series in question, z_t\n",
    "    phis : ndarray of shape (p,)\n",
    "        The phi parameters\n",
    "    thetas : ndarray of shape (q,)\n",
    "        The theta parameters\n",
    "    mu : float\n",
    "        The parameter mu\n",
    "    sigma : float\n",
    "        The standard deviation of the a_t random variables\n",
    "    \n",
    "    Returns\n",
    "    -------\n",
    "    log_likelihood : float\n",
    "        The log-likelihood of the model\n",
    "    \"\"\"\n",
    "    n = len(time_series)\n",
    "    p = len(phis)\n",
    "    q = len(thetas)\n",
    "    r = max(p,q+1)\n",
    "    F = np.zeros((r,r))\n",
    "    F[0,0:p] = phis\n",
    "    F[1:r,0:-1] = np.eye(r-1)\n",
    "    H = np.hstack((np.ones(1), thetas, np.zeros(r-q-1)))\n",
    "    Q = np.zeros((r,r))\n",
    "    Q[0,0] = sigma**2.\n",
    "    \n",
    "    xs = []\n",
    "    Ps = []\n",
    "    \n",
    "    guess = np.zeros(r)\n",
    "    Pguess = la.solve(np.eye(r**2.)-np.kron(F,F),Q.flatten()).reshape((r,r))\n",
    "    \n",
    "    for i in xrange(n):\n",
    "        if i:\n",
    "            guess = F.dot(x)\n",
    "            Pguess = F.dot(P).dot(F.T) + Q\n",
    "        y = time_series[i] - mu - H.dot(guess)\n",
    "        S = H.dot(Pguess).dot(H.T)\n",
    "        K = Pguess.dot(H.T)/S\n",
    "        x = guess + K.dot(y)\n",
    "        P = (np.eye(r)-np.outer(K,H)).dot(Pguess)\n",
    "        xs.append(guess)\n",
    "        Ps.append(Pguess)\n",
    "        \n",
    "    likelihood = 0.\n",
    "    for i in xrange(len(xs)):\n",
    "        mean = H.dot(xs[i])+mu\n",
    "        std = np.abs(H.dot(Ps[i]).dot(H.T))\n",
    "        likelihood += np.log(norm.pdf(time_series[i], loc=mean, scale=np.sqrt(std)))\n",
    "    return likelihood,xs[-1],Ps[-1]\n",
    "arma_likelihood(time_series_a, phis=np.array([0.9]), mu=17., sigma=0.4)[0]"
   ]
  },
  {
   "cell_type": "markdown",
   "metadata": {},
   "source": [
    "# Problem 2"
   ]
  },
  {
   "cell_type": "code",
   "execution_count": 4,
   "metadata": {
    "collapsed": false
   },
   "outputs": [],
   "source": [
    "def arma_fit(time_series):\n",
    "    \"\"\"\n",
    "    Return the ARMA model that minimizes AICc for the given time series,\n",
    "    subject to p,q <= 3.\n",
    "    Parameters\n",
    "    ----------\n",
    "    time_series : ndarray of shape (n,1)\n",
    "    The time series in question, z_t\n",
    "    Returns\n",
    "    -------\n",
    "    phis : ndarray of shape (p,)\n",
    "    The phi parameters\n",
    "    thetas : ndarray of shape (q,)\n",
    "    The theta parameters\n",
    "    mu : float\n",
    "    The parameter mu\n",
    "    sigma : float\n",
    "    The standard deviation of the a_t random variables\n",
    "    \"\"\"\n",
    "    mean = np.mean(time_series)\n",
    "    sig = np.std(time_series)\n",
    "    best_aic = np.inf\n",
    "    n = len(time_series)\n",
    "    for p in range(4):\n",
    "        for q in range(4):\n",
    "            print p,q\n",
    "            k = p+q+2\n",
    "            def f(x): # x contains the phis, thetas, mu, and sigma\n",
    "                return -1*arma_likelihood(time_series, phis=x[:p], thetas=x[p:p+q], mu=x[-2],sigma=x[-1])[0]\n",
    "            x0 = np.zeros(p+q+2)\n",
    "            x0[-2] = time_series.mean()\n",
    "            x0[-1] = time_series.std()\n",
    "            sol = op.fmin(f,x0,maxiter=10000, maxfun=10000)\n",
    "            aic = 2*k*(1+(k+1)/(n-k))+2*f(sol)\n",
    "            if aic < best_aic:\n",
    "                best_aic = aic\n",
    "                bestq = q\n",
    "                bestp = p\n",
    "                bestphi = sol[:p]\n",
    "                besttheta = sol[p:p+q]\n",
    "                bestmu = sol[-2]\n",
    "                bestsig = sol[-1]\n",
    "    return bestphi,besttheta,bestmu,bestsig"
   ]
  },
  {
   "cell_type": "markdown",
   "metadata": {},
   "source": [
    "# Problem 3"
   ]
  },
  {
   "cell_type": "code",
   "execution_count": 5,
   "metadata": {
    "collapsed": false
   },
   "outputs": [
    {
     "name": "stdout",
     "output_type": "stream",
     "text": [
      "0 0\n",
      "Optimization terminated successfully.\n",
      "         Current function value: 98.149109\n",
      "         Iterations: 22\n",
      "         Function evaluations: 45\n",
      "0 1\n",
      "Optimization terminated successfully.\n",
      "         Current function value: 75.074473\n",
      "         Iterations: 84\n",
      "         Function evaluations: 150\n",
      "0 2\n",
      "Optimization terminated successfully.\n",
      "         Current function value: 63.797437\n",
      "         Iterations: 149\n",
      "         Function evaluations: 255\n",
      "0 3\n",
      "Optimization terminated successfully.\n",
      "         Current function value: 58.776606\n",
      "         Iterations: 343\n",
      "         Function evaluations: 547\n",
      "1 0\n",
      "Optimization terminated successfully.\n",
      "         Current function value: 59.438386\n",
      "         Iterations: 89\n",
      "         Function evaluations: 162\n",
      "1 1\n",
      "Optimization terminated successfully.\n",
      "         Current function value: 50.745092\n",
      "         Iterations: 202\n",
      "         Function evaluations: 340\n",
      "1 2\n",
      "Optimization terminated successfully.\n",
      "         Current function value: 50.045019\n",
      "         Iterations: 561\n",
      "         Function evaluations: 898\n",
      "1 3\n",
      "Optimization terminated successfully.\n",
      "         Current function value: 49.181500\n",
      "         Iterations: 933\n",
      "         Function evaluations: 1444\n",
      "2 0\n",
      "Optimization terminated successfully.\n",
      "         Current function value: 52.929661\n",
      "         Iterations: 154\n",
      "         Function evaluations: 263\n",
      "2 1\n",
      "Optimization terminated successfully.\n",
      "         Current function value: 49.784073\n",
      "         Iterations: 452\n",
      "         Function evaluations: 726\n",
      "2 2\n",
      "Optimization terminated successfully.\n",
      "         Current function value: 50.608759\n",
      "         Iterations: 556\n",
      "         Function evaluations: 869\n",
      "2 3\n",
      "Optimization terminated successfully.\n",
      "         Current function value: 49.174555\n",
      "         Iterations: 903\n",
      "         Function evaluations: 1354\n",
      "3 0\n",
      "Optimization terminated successfully.\n",
      "         Current function value: 52.323638\n",
      "         Iterations: 337\n",
      "         Function evaluations: 533\n",
      "3 1\n",
      "Optimization terminated successfully.\n",
      "         Current function value: 52.889214\n",
      "         Iterations: 408\n",
      "         Function evaluations: 648\n",
      "3 2\n",
      "Optimization terminated successfully.\n",
      "         Current function value: 51.628508\n",
      "         Iterations: 692\n",
      "         Function evaluations: 1045\n",
      "3 3\n",
      "Optimization terminated successfully.\n",
      "         Current function value: 49.959610\n",
      "         Iterations: 750\n",
      "         Function evaluations: 1108\n",
      "1 1 (array([ 0.90867024]), array([-0.57585945]), 17.065262486340927, 0.31253098628150655)\n"
     ]
    }
   ],
   "source": [
    "theta_a = arma_fit(time_series_a)\n",
    "print len(theta_a[0]),len(theta_a[1]),theta_a"
   ]
  },
  {
   "cell_type": "code",
   "execution_count": 6,
   "metadata": {
    "collapsed": false
   },
   "outputs": [
    {
     "name": "stdout",
     "output_type": "stream",
     "text": [
      "0 0\n",
      "Optimization terminated successfully.\n",
      "         Current function value: 1251.093918\n",
      "         Iterations: 21\n",
      "         Function evaluations: 43\n",
      "0 1\n",
      "Optimization terminated successfully.\n",
      "         Current function value: 1249.741487\n",
      "         Iterations: 75\n",
      "         Function evaluations: 136\n",
      "0 2\n",
      "Optimization terminated successfully.\n",
      "         Current function value: 1249.730484\n",
      "         Iterations: 140\n",
      "         Function evaluations: 244\n",
      "0 3\n",
      "Optimization terminated successfully.\n",
      "         Current function value: 1249.356474\n",
      "         Iterations: 220\n",
      "         Function evaluations: 354\n",
      "1 0\n",
      "Optimization terminated successfully.\n",
      "         Current function value: 1249.742690\n",
      "         Iterations: 76\n",
      "         Function evaluations: 136\n",
      "1 1\n",
      "Optimization terminated successfully.\n",
      "         Current function value: 1249.736652\n",
      "         Iterations: 101\n",
      "         Function evaluations: 176\n",
      "1 2\n",
      "Optimization terminated successfully.\n",
      "         Current function value: 1248.431140\n",
      "         Iterations: 502\n",
      "         Function evaluations: 795\n",
      "1 3\n",
      "Optimization terminated successfully.\n",
      "         Current function value: 1249.279125\n",
      "         Iterations: 526\n",
      "         Function evaluations: 827\n",
      "2 0\n",
      "Optimization terminated successfully.\n",
      "         Current function value: 1249.729144\n",
      "         Iterations: 140\n",
      "         Function evaluations: 230\n",
      "2 1\n",
      "Optimization terminated successfully.\n",
      "         Current function value: 1249.572321\n",
      "         Iterations: 449\n",
      "         Function evaluations: 732\n",
      "2 2\n",
      "Optimization terminated successfully.\n",
      "         Current function value: 1249.585056\n",
      "         Iterations: 364\n",
      "         Function evaluations: 566\n",
      "2 3\n",
      "Optimization terminated successfully.\n",
      "         Current function value: 1245.935306\n",
      "         Iterations: 776\n",
      "         Function evaluations: 1174\n",
      "3 0\n",
      "Optimization terminated successfully.\n",
      "         Current function value: 1249.189513\n",
      "         Iterations: 291\n",
      "         Function evaluations: 449\n",
      "3 1\n",
      "Optimization terminated successfully.\n",
      "         Current function value: 1249.114975\n",
      "         Iterations: 562\n",
      "         Function evaluations: 881\n",
      "3 2\n",
      "Optimization terminated successfully.\n",
      "         Current function value: 1249.133978\n",
      "         Iterations: 728\n",
      "         Function evaluations: 1085\n",
      "3 3\n",
      "Optimization terminated successfully.\n",
      "         Current function value: 1242.383765\n",
      "         Iterations: 1353\n",
      "         Function evaluations: 1943\n",
      "3 3 (array([ 0.2350456, -0.3839864, -0.6566961]), array([-0.20234983,  0.41060419,  0.67314649]), -0.2853804404204241, 7.0334525375368138)\n"
     ]
    }
   ],
   "source": [
    "theta_b = arma_fit(time_series_b)\n",
    "print len(theta_b[0]),len(theta_b[1]),theta_b"
   ]
  },
  {
   "cell_type": "code",
   "execution_count": 7,
   "metadata": {
    "collapsed": false
   },
   "outputs": [
    {
     "name": "stdout",
     "output_type": "stream",
     "text": [
      "0 0\n",
      "Optimization terminated successfully.\n",
      "         Current function value: 503.464900\n",
      "         Iterations: 31\n",
      "         Function evaluations: 63\n",
      "0 1\n",
      "Optimization terminated successfully.\n",
      "         Current function value: 450.484801\n",
      "         Iterations: 104\n",
      "         Function evaluations: 190\n",
      "0 2\n",
      "Optimization terminated successfully.\n",
      "         Current function value: 422.413074\n",
      "         Iterations: 256\n",
      "         Function evaluations: 433\n",
      "0 3\n",
      "Optimization terminated successfully.\n",
      "         Current function value: 416.732743\n",
      "         Iterations: 573\n",
      "         Function evaluations: 918\n",
      "1 0\n",
      "Optimization terminated successfully.\n",
      "         Current function value: 448.903782\n",
      "         Iterations: 109\n",
      "         Function evaluations: 203\n",
      "1 1\n",
      "Optimization terminated successfully.\n",
      "         Current function value: 420.408583\n",
      "         Iterations: 251\n",
      "         Function evaluations: 427\n",
      "1 2\n",
      "Optimization terminated successfully.\n",
      "         Current function value: 416.429369\n",
      "         Iterations: 531\n",
      "         Function evaluations: 830\n",
      "1 3\n",
      "Optimization terminated successfully.\n",
      "         Current function value: 415.868475\n",
      "         Iterations: 661\n",
      "         Function evaluations: 1031\n",
      "2 0\n",
      "Optimization terminated successfully.\n",
      "         Current function value: 414.617409\n",
      "         Iterations: 250\n",
      "         Function evaluations: 421\n",
      "2 1\n",
      "Optimization terminated successfully.\n",
      "         Current function value: 411.526609\n",
      "         Iterations: 507\n",
      "         Function evaluations: 823\n",
      "2 2\n",
      "Optimization terminated successfully.\n",
      "         Current function value: 411.337696\n",
      "         Iterations: 909\n",
      "         Function evaluations: 1408\n",
      "2 3\n",
      "Optimization terminated successfully.\n",
      "         Current function value: 418.197253\n",
      "         Iterations: 1014\n",
      "         Function evaluations: 1592\n",
      "3 0\n",
      "Optimization terminated successfully.\n",
      "         Current function value: 412.494817\n",
      "         Iterations: 572\n",
      "         Function evaluations: 915\n",
      "3 1\n",
      "Optimization terminated successfully.\n",
      "         Current function value: 411.389836\n",
      "         Iterations: 964\n",
      "         Function evaluations: 1499\n",
      "3 2\n",
      "Optimization terminated successfully.\n",
      "         Current function value: 411.341767\n",
      "         Iterations: 1032\n",
      "         Function evaluations: 1562\n",
      "3 3\n",
      "Optimization terminated successfully.\n",
      "         Current function value: 411.335269\n",
      "         Iterations: 1836\n",
      "         Function evaluations: 2717\n",
      "2 1 (array([ 1.22481184, -0.56007884]), array([ 0.38466735]), 48.462278111207979, 14.622537558888457)\n"
     ]
    }
   ],
   "source": [
    "theta_c = arma_fit(time_series_c)\n",
    "print len(theta_c[0]),len(theta_c[1]),theta_c"
   ]
  },
  {
   "cell_type": "markdown",
   "metadata": {},
   "source": [
    "# Problem 4"
   ]
  },
  {
   "cell_type": "code",
   "execution_count": 8,
   "metadata": {
    "collapsed": false
   },
   "outputs": [],
   "source": [
    "def arma_forecast(time_series, phis=np.array([]), thetas=np.array([]), mu=0.,sigma=1., future_periods=20):\n",
    "    \"\"\"\n",
    "    Return forecasts for a time series modeled with the given ARMA model.\n",
    "    Parameters\n",
    "    ----------\n",
    "    time_series : ndarray of shape (n,1)\n",
    "    The time series in question, z_t\n",
    "    phis : ndarray of shape (p,)\n",
    "    The phi parameters\n",
    "    thetas : ndarray of shape (q,)\n",
    "    The theta parameters\n",
    "    mu : float\n",
    "    The parameter mu\n",
    "    sigma : float\n",
    "    The standard deviation of the a_t random variables\n",
    "    future_periods : int\n",
    "    The number of future periods to return\n",
    "    Returns\n",
    "    -------\n",
    "    e_vals : ndarray of shape (future_periods,)\n",
    "    The expected values of z for times n+1, ..., n+future_periods\n",
    "    sigs : ndarray of shape (future_periods,)\n",
    "    The standard deviations of z for times n+1, ..., n+future_periods\n",
    "    \"\"\"\n",
    "    like = arma_likelihood(time_series, phis=phis, thetas=thetas, mu=mu,sigma=sigma)\n",
    "    p = len(phis)\n",
    "    q = len(thetas)\n",
    "    r = max(p,q+1)\n",
    "    F = np.zeros((r,r))\n",
    "    F[0,0:p] = phis\n",
    "    F[1:r,0:-1] = np.eye(r-1)\n",
    "    H = np.concatenate([np.ones(1), thetas, np.zeros(r-q-1)])\n",
    "    Q = np.zeros((r,r))\n",
    "    Q[0,0] = sigma**2.\n",
    "    \n",
    "    xs = [like[1]]\n",
    "    Ps = [like[2]]\n",
    "    e_vals = []\n",
    "    sigs = []\n",
    "    \n",
    "    for i in range(future_periods):\n",
    "        xs.append(F.dot(xs[-1]))\n",
    "        Ps.append(F.dot(Ps[-1].dot(F.T))+Q)\n",
    "        e_vals.append(H.dot(xs[-1])+mu)\n",
    "        sigs.append(np.sqrt(H.dot(Ps[-1].dot(H.T))))\n",
    "    return np.array(e_vals),np.array(sigs)"
   ]
  },
  {
   "cell_type": "code",
   "execution_count": 9,
   "metadata": {
    "collapsed": false
   },
   "outputs": [
    {
     "data": {
      "image/png": "[encoded data removed]",
      "text/plain": [
       "<matplotlib.figure.Figure at 0x1119c4110>"
      ]
     },
     "metadata": {},
     "output_type": "display_data"
    }
   ],
   "source": [
    "phis,thetas,mu,sigma = theta_a\n",
    "e_vals,sigs = arma_forecast(time_series_a, phis, thetas, mu, sigma)\n",
    "plt.plot(time_series_a)\n",
    "n = len(time_series_a)\n",
    "plt.plot(range(n,n+20),e_vals)\n",
    "plt.plot(range(n,n+20),e_vals+sigs)\n",
    "plt.plot(range(n,n+20),e_vals+2*sigs)\n",
    "plt.plot(range(n,n+20),e_vals-sigs)\n",
    "plt.plot(range(n,n+20),e_vals-2*sigs)\n",
    "plt.show()"
   ]
  },
  {
   "cell_type": "code",
   "execution_count": 10,
   "metadata": {
    "collapsed": false
   },
   "outputs": [
    {
     "data": {
      "image/png": "[encoded data removed]",
      "text/plain": [
       "<matplotlib.figure.Figure at 0x1119d7290>"
      ]
     },
     "metadata": {},
     "output_type": "display_data"
    }
   ],
   "source": [
    "phis,thetas,mu,sigma = theta_b\n",
    "e_vals,sigs = arma_forecast(time_series_b, phis, thetas, mu, sigma)\n",
    "plt.plot(time_series_b)\n",
    "n = len(time_series_b)\n",
    "plt.plot(range(n,n+20),e_vals)\n",
    "plt.plot(range(n,n+20),e_vals+sigs)\n",
    "plt.plot(range(n,n+20),e_vals+2*sigs)\n",
    "plt.plot(range(n,n+20),e_vals-sigs)\n",
    "plt.plot(range(n,n+20),e_vals-2*sigs)\n",
    "plt.show()"
   ]
  },
  {
   "cell_type": "code",
   "execution_count": 11,
   "metadata": {
    "collapsed": false
   },
   "outputs": [
    {
     "data": {
      "image/png": "[encoded data removed]",
      "text/plain": [
       "<matplotlib.figure.Figure at 0x1119c4dd0>"
      ]
     },
     "metadata": {},
     "output_type": "display_data"
    }
   ],
   "source": [
    "phis,thetas,mu,sigma = theta_c\n",
    "e_vals,sigs = arma_forecast(time_series_c, phis, thetas, mu, sigma)\n",
    "plt.plot(time_series_c)\n",
    "n = len(time_series_c)\n",
    "plt.plot(range(n,n+20),e_vals)\n",
    "plt.plot(range(n,n+20),e_vals+sigs)\n",
    "plt.plot(range(n,n+20),e_vals+2*sigs)\n",
    "plt.plot(range(n,n+20),e_vals-sigs)\n",
    "plt.plot(range(n,n+20),e_vals-2*sigs)\n",
    "plt.show()"
   ]
  },
  {
   "cell_type": "code",
   "execution_count": 1,
   "metadata": {
    "collapsed": false
   },
   "outputs": [
    {
     "ename": "NameError",
     "evalue": "name 'theta_a' is not defined",
     "output_type": "error",
     "traceback": [
      "\u001b[0;31m---------------------------------------------------------------------------\u001b[0m",
      "\u001b[0;31mNameError\u001b[0m                                 Traceback (most recent call last)",
      "\u001b[0;32m<ipython-input-1-0dc5e692ae39>\u001b[0m in \u001b[0;36m<module>\u001b[0;34m()\u001b[0m\n\u001b[0;32m----> 1\u001b[0;31m \u001b[0mtheta_a\u001b[0m\u001b[1;33m\u001b[0m\u001b[0m\n\u001b[0m",
      "\u001b[0;31mNameError\u001b[0m: name 'theta_a' is not defined"
     ]
    }
   ],
   "source": [
    "theta_a"
   ]
  },
  {
   "cell_type": "code",
   "execution_count": null,
   "metadata": {
    "collapsed": true
   },
   "outputs": [],
   "source": []
  }
 ],
 "metadata": {
  "kernelspec": {
   "display_name": "Python 2",
   "language": "python",
   "name": "python2"
  },
  "language_info": {
   "codemirror_mode": {
    "name": "ipython",
    "version": 2
   },
   "file_extension": ".py",
   "mimetype": "text/x-python",
   "name": "python",
   "nbconvert_exporter": "python",
   "pygments_lexer": "ipython2",
   "version": "2.7.13"
  }
 },
 "nbformat": 4,
 "nbformat_minor": 2
}
